{
 "cells": [
  {
   "cell_type": "markdown",
   "metadata": {},
   "source": [
    "<p style=\"text-align: center\">\n",
    "<img src=\"../../assets/images/dtlogo.png\" alt=\"Duckietown\" width=\"50%\">\n",
    "</p>"
   ]
  },
  {
   "cell_type": "markdown",
   "metadata": {
    "tags": []
   },
   "source": [
    "# 🚙 💻 03 - Wheel encoders\n",
    "\n",
    "Encoders are sensors that convert (analog) angular position, or motion of a shaft, into a digital signal. \n",
    "\n",
    "In Duckietown we use Hall effect encoders [link to Wikipedia](https://en.wikipedia.org/wiki/Hall-effect_sensor), which extract the _incremental_ change in angular position of the wheels. Every time the shaft rotates of a certain set angle, i.e., the resolution of the encoder, it emits a pulse. We call these pulses \"ticks\".  \n",
    "\n",
    "We can use ticks from both wheels to measure the variation of the position of the Duckiebot while it moves. \n",
    "\n",
    "In this activity we learn how to access the data coming from the wheel encoders of our Duckiebot, and understand what each field means. We will use this data for later activities."
   ]
  },
  {
   "cell_type": "markdown",
   "metadata": {},
   "source": [
    "## 🚙 💻 Obtaining wheel encoder measurements. \n",
    "\n",
    "Let's look at the raw data that the wheel encoders produce. \n",
    "\n",
    "### 💻 Read data from wheel encoders\n",
    "\n",
    "Follow the procedure in [the README](../../README.md) to run the exercise including the `noVNC` server.        \n",
    "\n",
    "        \n",
    "Open LX terminal inside VNC, and type:\n",
    "\n",
    "       rostopic echo /[ROBOT_NAME]/left_wheel_encoder_driver_node/tick\n",
    "\n",
    "where [ROBOT_NAME] could be a virtual or a real robot.\n",
    "\n",
    "Now open the virtual joystick inside VNC (doube-click on the icon on the desktop) and start pressing your keyboard arrows to move your robot. \n",
    "\n",
    "\n",
    "You will start seeing wheel encoder messages streaming on your terminal.\n",
    "\n",
    "<p style=\"text-align:center;\"><img src=\"../../assets/images/03-wheel-encoders/VNC-encoder-tick.png\" width=\"400\" alt=\"rostopic-list\"></p>    \n",
    "\n",
    "Messages will look like this:\n",
    "\n",
    "```    \n",
    "---\n",
    "header: \n",
    "  seq: 372\n",
    "  stamp: \n",
    "    secs: 1618436796\n",
    "    nsecs:  55785179\n",
    "  frame_id: \"[ROBOT_NAME]/left_wheel_axis\"\n",
    "data: 4\n",
    "resolution: 135\n",
    "type: 1\n",
    "---\n",
    "```    \n",
    "\n",
    "Let's look at what each field means:\n",
    "\n",
    "* `seq`: is an incremental identifier of the message. For each message received, it will increase by one. \n",
    "* `stamp`: the timestamp of the message. (Note: this field will be empty when looking at it through VNC)\n",
    "* `data`: is the cumulative count of ticks from the encoder in this instance. It will increase if the wheel is spinning forward, decrease if backwards. This is the actual measurement we can use to build our algorithms going forward.\n",
    "* `resolution`: is the total number of ticks for each full revolution of the wheel (a constant).\n",
    "* `type`: indicates the kind of encoder measurements. `1` stands for [incremental measurements](https://github.com/duckietown/dt-ros-commons/blob/daffy/packages/duckietown_msgs/msg/WheelEncoderStamped.msg). "
   ]
  },
  {
   "cell_type": "markdown",
   "metadata": {},
   "source": [
    "## Reading the number of ticks from each wheel\n",
    "\n",
    "The wheel encoder message above provides several pieces of information. Let's extract data from it. \n"
   ]
  },
  {
   "cell_type": "code",
   "execution_count": 1,
   "metadata": {},
   "outputs": [
    {
     "name": "stdout",
     "output_type": "stream",
     "text": [
      "The received message is :\n",
      "\n",
      "header: \n",
      "  seq: 372\n",
      "  stamp: \n",
      "    secs: 1618436796\n",
      "    nsecs:  55785179\n",
      "  frame_id: \"agent/left_wheel_axis\"\n",
      "data: 4\n",
      "resolution: 135\n",
      "type: 1\n",
      "\n",
      "N. of ticks : 4\n",
      "Total ticks : 135\n"
     ]
    },
    {
     "data": {
      "text/plain": [
       "<unit_test.UnitTestMessage at 0x7b2c7b942a60>"
      ]
     },
     "execution_count": 1,
     "metadata": {},
     "output_type": "execute_result"
    }
   ],
   "source": [
    "import sys\n",
    "sys.path.append('../../tests')\n",
    "from unit_test import UnitTestMessage\n",
    "\n",
    "# We define this function just to show how to extract data from the encoder_msg, which is the data coming from the wheel ecoders\n",
    "\n",
    "def EncoderCallback(encoder_msg):\n",
    "    \n",
    "    N_tot = encoder_msg.resolution # number of ticks per wheel revolution\n",
    "    ticks = encoder_msg.data # incremental count of ticks from the encoder\n",
    "    \n",
    "    #Let's see if we've done it right\n",
    "    print(\"The received message is :\")\n",
    "    print()\n",
    "    print(encoder_msg)\n",
    "    print()\n",
    "    print(f\"N. of ticks : {ticks}\")\n",
    "    print(f\"Total ticks : {N_tot}\")\n",
    "\n",
    "\n",
    "# Testing the callback\n",
    "UnitTestMessage(EncoderCallback)\n"
   ]
  },
  {
   "cell_type": "markdown",
   "metadata": {},
   "source": [
    "You should now be able to read and understand wheel encoder data, and extract fields of interest from the messages. You can proceed to the next tutorial, the [odometry activity](../04-Odometry/odometry_activity.ipynb)."
   ]
  }
 ],
 "metadata": {
  "kernelspec": {
   "display_name": "Python 3.8.10 64-bit",
   "language": "python",
   "name": "python3"
  },
  "language_info": {
   "codemirror_mode": {
    "name": "ipython",
    "version": 3
   },
   "file_extension": ".py",
   "mimetype": "text/x-python",
   "name": "python",
   "nbconvert_exporter": "python",
   "pygments_lexer": "ipython3",
   "version": "3.8.10"
  },
  "vscode": {
   "interpreter": {
    "hash": "916dbcbb3f70747c44a77c7bcd40155683ae19c65e1c03b4aa3499c5328201f1"
   }
  }
 },
 "nbformat": 4,
 "nbformat_minor": 4
}
